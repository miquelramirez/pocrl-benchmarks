{
 "cells": [
  {
   "cell_type": "code",
   "execution_count": 1,
   "metadata": {
    "collapsed": true
   },
   "outputs": [],
   "source": [
    "%matplotlib inline\n",
    "import matplotlib.pyplot as plt\n",
    "import pandas as pd\n",
    "import numpy as np"
   ]
  },
  {
   "cell_type": "code",
   "execution_count": 2,
   "metadata": {
    "collapsed": true,
    "scrolled": true
   },
   "outputs": [],
   "source": [
    "import sys\n",
    "sys.path.append('..')\n",
    "import gym\n",
    "import yowie_gym"
   ]
  },
  {
   "cell_type": "markdown",
   "metadata": {},
   "source": [
    "# Car Parking"
   ]
  },
  {
   "cell_type": "markdown",
   "metadata": {},
   "source": [
    "This task involves steering a robotic car, where one of the control inputs, the angle of the front wheels, is a kinematic, rather than a dynamic variable. When controls specify kinematic variables, bounds arise naturally from the geometry of the problem rather than from actuator limits. This makes kinematic problems an important class for our proposed algorithm.\n",
    "\n",
    "$(x, y, \\theta, v)$ is the 4-dimensional state. $x$, $y$ is the position of the point midway between the back wheels. $\\theta$ is the angle of the car relative to the $x$-axis. $v$ is the velocity of the front wheels. The two control signals are $\\omega$, the front wheel angle, and $a$ the front wheel acceleration. We follow LaValle's (see Chapter 13, pp. 723-724) characterization to obtain the dynamics\n",
    "\n",
    "$$\n",
    "\\dot x = v\\,\\cos\\theta\\\\\n",
    "\\dot y = v\\,\\sin\\theta\\\\\n",
    "\\dot {\\theta} = \\frac{v}{d} \\tan\\omega\\\\\n",
    "\\dot v = a\n",
    "$$\n",
    "\n",
    "where $d$ is the distance between the front and back wheels (in Tassa et al experiments, this value was set to $2$ and we do so too)."
   ]
  },
  {
   "cell_type": "markdown",
   "metadata": {},
   "source": [
    "A parking task is _encoded_ as a final cost on the distance of the last state from $(0,0,0,0)$, i.e. at the plane, facing east and motionless. Distance was measured using the Huber-like function \n",
    "\n",
    "$$\n",
    "z(x,p) = \\sqrt{(x^2+p^2)} - p\n",
    "$$\n",
    "\n",
    "This function is roughly quadratic in $p$-sized neighbourhood of the origina and linear thereafter. The terminal cost is given by\n",
    "\n",
    "$$\n",
    "l_f(\\mathbf{x}) = z(x,px) + z(y,py) + z(\\theta,p_{\\theta}) + z(v,p_v)\n",
    "$$\n",
    "\n",
    "Tassa et al chose $p_x = p_y = 0.1m$, $p_{\\theta} = 0.01rad$ and $p_v=1m/s$ to compensate for the relative difficulty of changing each variable. According to Tassa et al, it is easier to stop the car ($v=0$) than it is to orient it (\\theta=0), and it suited them to have the optimizer to focus on the latter task once close enough to the goal state. \n",
    "\n",
    "Tassa et al define the state dependent component of the stage cost as the Cartesian distance from the origin\n",
    "\n",
    "$$\n",
    "l(x) = 0.01( z(x,p_x) + z(y,p_y))\n",
    "$$\n",
    "\n",
    "in order to encourage parking maneuvers that do no take the car far from the origin. The control dependent component of the stage cost is defined by Tassa as\n",
    "\n",
    "$$\n",
    "l(u) = c_{\\omega} \\omega^2 + c_{a} a^2\n",
    "$$\n",
    "\n",
    "setting $c_{\\omega}=0.01$ and $c_{a}=10^{-4}$. The cost coefficients were chosen to be small in order to encourage the controller to stay within the bounds\n",
    "\n",
    "$$\n",
    "0.5rad \\leq \\omega \\leq 0.5rad \\\\\n",
    "-2 m/s^2 \\leq a \\leq 2 m/s^2\n",
    "$$\n",
    "\n",
    "The horizon is set to $1,000$ time steps. Tassa et al do not mention which time step $h$ they use to discretize the dynamics, we chose $0.01$."
   ]
  },
  {
   "cell_type": "markdown",
   "metadata": {},
   "source": [
    "### Initial States"
   ]
  },
  {
   "cell_type": "markdown",
   "metadata": {},
   "source": [
    "Initial states correspond to the set $X_0 \\times Y_0 \\times \\theta_0 \\times a_0$, where \n",
    "- $X_0$ = $Y_0$ = $\\{-4, -3, \\ldots, 0, \\ldots, 4\\}$, \n",
    "- $\\theta_0$ = $\\{ 0, \\frac{\\pi}{2}, \\pi, \\frac{3\\pi}{2} \\}$, and\n",
    "\n",
    "- $a_0$ = \\{ -1, -0.5, 0, 0.5, 1\\}"
   ]
  },
  {
   "cell_type": "markdown",
   "metadata": {},
   "source": [
    "## Task 000"
   ]
  },
  {
   "cell_type": "code",
   "execution_count": 3,
   "metadata": {
    "collapsed": true
   },
   "outputs": [],
   "source": [
    "env = gym.make('CarPark-5532-v1')"
   ]
  },
  {
   "cell_type": "code",
   "execution_count": 4,
   "metadata": {
    "collapsed": true
   },
   "outputs": [],
   "source": [
    "x0 = env.reset()"
   ]
  },
  {
   "cell_type": "code",
   "execution_count": 5,
   "metadata": {},
   "outputs": [
    {
     "name": "stdout",
     "output_type": "stream",
     "text": [
      "[[1.        ]\n",
      " [1.        ]\n",
      " [4.71238898]\n",
      " [0.        ]]\n"
     ]
    }
   ],
   "source": [
    "print(x0)"
   ]
  },
  {
   "cell_type": "markdown",
   "metadata": {},
   "source": [
    "This initial situation corresponds with the car on the lower left corner of the lattice, oriented towards the right, while moving backwards."
   ]
  },
  {
   "cell_type": "markdown",
   "metadata": {},
   "source": [
    "### Passive Dynamics ($U$ $=$ 0)"
   ]
  },
  {
   "cell_type": "code",
   "execution_count": 6,
   "metadata": {
    "collapsed": true
   },
   "outputs": [],
   "source": [
    "x0 = env.reset()\n",
    "S_zero = [x0]\n",
    "g_zero = []\n",
    "k = 0\n",
    "while True:\n",
    "    u = np.zeros(env.action_space.shape)\n",
    "    x, r, done, info = env.step(u)\n",
    "    S_zero.append(x)\n",
    "    g_zero.append(r)\n",
    "    if done: break\n",
    "S_zero = np.hstack(S_zero)\n",
    "g_zero = np.asarray(g_zero, dtype=np.float64)\n",
    "J_zero = np.asarray([ np.sum(g_zero[k:]) for k in range(g_zero.shape[0])], dtype=np.float64)"
   ]
  },
  {
   "cell_type": "code",
   "execution_count": 7,
   "metadata": {},
   "outputs": [
    {
     "data": {
      "image/png": "[encoded data removed]",
      "text/plain": [
       "<Figure size 432x288 with 1 Axes>"
      ]
     },
     "metadata": {
      "needs_background": "light"
     },
     "output_type": "display_data"
    }
   ],
   "source": [
    "plt.xlabel('time')\n",
    "plt.ylabel('x')\n",
    "for x_dim in range(S_zero.shape[0]):\n",
    "    # Plot a single line\n",
    "    xs = np.linspace(0, S_zero.shape[1], num=S_zero.shape[1])\n",
    "    ys = S_zero[x_dim,:]\n",
    "    plt.plot(xs, ys)"
   ]
  },
  {
   "cell_type": "markdown",
   "metadata": {},
   "source": [
    "### Random Excitation"
   ]
  },
  {
   "cell_type": "code",
   "execution_count": 8,
   "metadata": {
    "collapsed": true
   },
   "outputs": [],
   "source": [
    "x0 = env.reset()\n",
    "S_zero = [x0]\n",
    "g_zero = []\n",
    "while True:\n",
    "    u = np.random.normal(0.0, 1.0, size=(env.action_space.shape[0], 1))\n",
    "    x, r, done, info = env.step(u)\n",
    "    S_zero.append(x)\n",
    "    g_zero.append(r)\n",
    "    if done: break\n",
    "S_zero = np.hstack(S_zero)\n",
    "g_zero = np.asarray(g_zero, dtype=np.float64)\n",
    "J_zero = np.asarray([ np.sum(g_zero[k:]) for k in range(g_zero.shape[0])], dtype=np.float64)"
   ]
  },
  {
   "cell_type": "code",
   "execution_count": 9,
   "metadata": {},
   "outputs": [
    {
     "data": {
      "image/png": "[encoded data removed]",
      "text/plain": [
       "<Figure size 432x288 with 1 Axes>"
      ]
     },
     "metadata": {
      "needs_background": "light"
     },
     "output_type": "display_data"
    }
   ],
   "source": [
    "plt.xlabel('time')\n",
    "plt.ylabel('x')\n",
    "for x_dim in range(S_zero.shape[0]):\n",
    "    # Plot a single line\n",
    "    xs = np.linspace(0, S_zero.shape[1], num=S_zero.shape[1])\n",
    "    ys = S_zero[x_dim,:]\n",
    "    plt.plot(xs, ys)"
   ]
  },
  {
   "cell_type": "markdown",
   "metadata": {},
   "source": [
    "### MPC"
   ]
  },
  {
   "cell_type": "markdown",
   "metadata": {},
   "source": [
    "Trajectory followed by MPC controller based on Differential Dynamic Programming"
   ]
  },
  {
   "cell_type": "code",
   "execution_count": 10,
   "metadata": {},
   "outputs": [
    {
     "name": "stdout",
     "output_type": "stream",
     "text": [
      "[[1.        ]\n",
      " [1.        ]\n",
      " [4.71238898]\n",
      " [0.        ]]\n"
     ]
    }
   ],
   "source": [
    "print(env.reset())"
   ]
  },
  {
   "cell_type": "code",
   "execution_count": 11,
   "metadata": {
    "collapsed": true
   },
   "outputs": [],
   "source": [
    "x0 = env.reset()\n",
    "S_mpc = [x0]\n",
    "U_mpc = []\n",
    "g_mpc = []\n",
    "J_mpc = []\n",
    "pJ_mpc = []\n",
    "x = x0\n",
    "while True:\n",
    "    u, j = env.unwrapped.mpc(x)\n",
    "    U_mpc.append(u)\n",
    "    pJ_mpc.append(j)\n",
    "    #print(u)\n",
    "    x, r, done, info = env.step(u)\n",
    "    S_mpc.append(x)\n",
    "    g_mpc.append(r)\n",
    "    if done: break"
   ]
  },
  {
   "cell_type": "code",
   "execution_count": 12,
   "metadata": {
    "collapsed": true
   },
   "outputs": [],
   "source": [
    "S_mpc = np.hstack(S_mpc)\n",
    "U_mpc = np.hstack(U_mpc)\n",
    "g_mpc = np.asarray(g_mpc, dtype=np.float64)\n",
    "J_mpc = np.asarray([ np.sum(g_mpc[k:]) for k in range(g_mpc.shape[0])], dtype=np.float64)\n",
    "pJ_mpc = np.array(pJ_mpc)"
   ]
  },
  {
   "cell_type": "code",
   "execution_count": 13,
   "metadata": {},
   "outputs": [
    {
     "data": {
      "image/png": "[encoded data removed]",
      "text/plain": [
       "<Figure size 432x288 with 1 Axes>"
      ]
     },
     "metadata": {
      "needs_background": "light"
     },
     "output_type": "display_data"
    }
   ],
   "source": [
    "plt.xlabel('time')\n",
    "plt.ylabel('x')\n",
    "for x_dim in range(S_mpc.shape[0]):\n",
    "    # Plot a single line\n",
    "    xs = np.linspace(0, S_mpc.shape[1], num=S_mpc.shape[1])\n",
    "    ys = S_mpc[x_dim,:]\n",
    "    plt.plot(xs, ys)"
   ]
  },
  {
   "cell_type": "code",
   "execution_count": 14,
   "metadata": {},
   "outputs": [
    {
     "data": {
      "image/png": "[encoded data removed]",
      "text/plain": [
       "<Figure size 432x288 with 1 Axes>"
      ]
     },
     "metadata": {
      "needs_background": "light"
     },
     "output_type": "display_data"
    }
   ],
   "source": [
    "plt.xlabel('time')\n",
    "plt.ylabel('u')\n",
    "for x_dim in range(U_mpc.shape[0]):\n",
    "    # Plot a single line\n",
    "    xs = np.linspace(0, U_mpc.shape[1], num=U_mpc.shape[1])\n",
    "    ys = U_mpc[x_dim,:]\n",
    "    plt.plot(xs, ys)"
   ]
  },
  {
   "cell_type": "code",
   "execution_count": 15,
   "metadata": {},
   "outputs": [
    {
     "data": {
      "text/plain": [
       "[<matplotlib.lines.Line2D at 0x7fb6a23a2c18>]"
      ]
     },
     "execution_count": 15,
     "metadata": {},
     "output_type": "execute_result"
    },
    {
     "data": {
      "image/png": "[encoded data removed]",
      "text/plain": [
       "<Figure size 432x288 with 1 Axes>"
      ]
     },
     "metadata": {
      "needs_background": "light"
     },
     "output_type": "display_data"
    }
   ],
   "source": [
    "plt.xlabel('time')\n",
    "plt.ylabel('J (actual)')\n",
    "# Plot a single line\n",
    "xs = np.linspace(0, S_mpc.shape[1], num=S_mpc.shape[1]-1)\n",
    "ys = J_mpc\n",
    "plt.plot(xs, ys)"
   ]
  },
  {
   "cell_type": "code",
   "execution_count": 16,
   "metadata": {},
   "outputs": [
    {
     "data": {
      "text/plain": [
       "[<matplotlib.lines.Line2D at 0x7fb69ea9d588>]"
      ]
     },
     "execution_count": 16,
     "metadata": {},
     "output_type": "execute_result"
    },
    {
     "data": {
      "image/png": "[encoded data removed]",
      "text/plain": [
       "<Figure size 432x288 with 1 Axes>"
      ]
     },
     "metadata": {
      "needs_background": "light"
     },
     "output_type": "display_data"
    }
   ],
   "source": [
    "plt.xlabel('time')\n",
    "plt.ylabel('J (predicted)')\n",
    "# Plot a single line\n",
    "xs = np.linspace(0, S_mpc.shape[1], num=S_mpc.shape[1]-1)\n",
    "ys = pJ_mpc\n",
    "plt.plot(xs, ys)"
   ]
  },
  {
   "cell_type": "code",
   "execution_count": null,
   "metadata": {
    "collapsed": true
   },
   "outputs": [],
   "source": []
  }
 ],
 "metadata": {
  "kernelspec": {
   "display_name": "Python 3",
   "language": "python",
   "name": "python3"
  },
  "language_info": {
   "codemirror_mode": {
    "name": "ipython",
    "version": 3
   },
   "file_extension": ".py",
   "mimetype": "text/x-python",
   "name": "python",
   "nbconvert_exporter": "python",
   "pygments_lexer": "ipython3",
   "version": "3.5.2"
  }
 },
 "nbformat": 4,
 "nbformat_minor": 2
}
